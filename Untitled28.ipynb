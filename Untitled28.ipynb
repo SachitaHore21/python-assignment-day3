{
 "cells": [
  {
   "cell_type": "code",
   "execution_count": 12,
   "metadata": {},
   "outputs": [
    {
     "name": "stdout",
     "output_type": "stream",
     "text": [
      "Enter the value of n: 5\n",
      "Sum of first 5 n numbers is:  15\n"
     ]
    }
   ],
   "source": [
    "num = int(input(\"Enter the value of n: \"))\n",
    "num1 = num\n",
    "sum = 0\n",
    "while num > 0:\n",
    "        sum = sum + num\n",
    "        num = num - 1;\n",
    "    \n",
    "print(\"Sum of first\", num1, \"n numbers is: \", sum)"
   ]
  },
  {
   "cell_type": "code",
   "execution_count": null,
   "metadata": {},
   "outputs": [],
   "source": []
  },
  {
   "cell_type": "code",
   "execution_count": null,
   "metadata": {},
   "outputs": [],
   "source": [
    "number = int(input(\"Enter the Number\"))\n",
    "#num2= numb\n",
    "if number > 1:\n",
    "    for i in range(2,number):\n",
    "        if(number % i) == 0:\n",
    "            print(\"Number is not prime\",number)\n",
    "        break\n",
    "    else:\n",
    "        print(\"number is prime\",number)\n",
    "else:\n",
    "        print(\"number is not prime\",number)\n",
    "    \n",
    "    \n"
   ]
  },
  {
   "cell_type": "code",
   "execution_count": null,
   "metadata": {},
   "outputs": [],
   "source": []
  }
 ],
 "metadata": {
  "kernelspec": {
   "display_name": "Python 3",
   "language": "python",
   "name": "python3"
  },
  "language_info": {
   "codemirror_mode": {
    "name": "ipython",
    "version": 3
   },
   "file_extension": ".py",
   "mimetype": "text/x-python",
   "name": "python",
   "nbconvert_exporter": "python",
   "pygments_lexer": "ipython3",
   "version": "3.7.3"
  }
 },
 "nbformat": 4,
 "nbformat_minor": 2
}
